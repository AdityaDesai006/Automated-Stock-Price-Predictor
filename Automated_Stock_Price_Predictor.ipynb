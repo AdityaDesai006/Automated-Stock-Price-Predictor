{
  "nbformat": 4,
  "nbformat_minor": 0,
  "metadata": {
    "colab": {
      "provenance": [],
      "private_outputs": true,
      "include_colab_link": true
    },
    "kernelspec": {
      "name": "python3",
      "display_name": "Python 3"
    },
    "accelerator": "GPU",
    "gpuClass": "standard"
  },
  "cells": [
    {
      "cell_type": "markdown",
      "metadata": {
        "id": "view-in-github",
        "colab_type": "text"
      },
      "source": [
        "<a href=\"https://colab.research.google.com/github/AdityaDesai006/Automated-Stock-Price-Predictor/blob/main/Automated_Stock_Price_Predictor.ipynb\" target=\"_parent\"><img src=\"https://colab.research.google.com/assets/colab-badge.svg\" alt=\"Open In Colab\"/></a>"
      ]
    },
    {
      "cell_type": "markdown",
      "metadata": {
        "id": "EJPImZ5za2DY"
      },
      "source": [
        "## Importing all the necessary Libraries"
      ]
    },
    {
      "cell_type": "code",
      "metadata": {
        "id": "tR4fFCxE8fAg"
      },
      "source": [
        "import pandas as pd\n",
        "import plotly.express as px\n",
        "from prophet import Prophet"
      ],
      "execution_count": null,
      "outputs": []
    },
    {
      "cell_type": "code",
      "metadata": {
        "id": "yK5iokzObG8b"
      },
      "source": [
        " #Initializing Plotly\n",
        " import plotly.io as pio\n",
        " pio.renderers.default='colab'"
      ],
      "execution_count": null,
      "outputs": []
    },
    {
      "cell_type": "markdown",
      "metadata": {
        "id": "LQr_B55bbjQ1"
      },
      "source": [
        "## Importing the Dataset"
      ]
    },
    {
      "cell_type": "code",
      "metadata": {
        "id": "76a6siA7bma0"
      },
      "source": [
        "df = pd.read_csv(\"TTM.csv\")"
      ],
      "execution_count": null,
      "outputs": []
    },
    {
      "cell_type": "code",
      "metadata": {
        "id": "ovLUGCBzQuRd"
      },
      "source": [
        "df"
      ],
      "execution_count": null,
      "outputs": []
    },
    {
      "cell_type": "code",
      "metadata": {
        "id": "GQGyTaTB8sUM"
      },
      "source": [
        "df.info()"
      ],
      "execution_count": null,
      "outputs": []
    },
    {
      "cell_type": "code",
      "metadata": {
        "id": "xAifThcH8xUH"
      },
      "source": [
        "df.describe()"
      ],
      "execution_count": null,
      "outputs": []
    },
    {
      "cell_type": "markdown",
      "metadata": {
        "id": "v3X8Z1fFb6or"
      },
      "source": [
        "# Visualizing the historical performance of Tesla using plotly"
      ]
    },
    {
      "cell_type": "code",
      "metadata": {
        "id": "2PKVDQq2ih4S"
      },
      "source": [
        "#Line graph, Area graph , box plot (Analyzing price and volume)"
      ],
      "execution_count": null,
      "outputs": []
    },
    {
      "cell_type": "code",
      "metadata": {
        "id": "sBuNquI5Qpe3"
      },
      "source": [
        "px.area(df, x=\"Date\", y=\"Close\")"
      ],
      "execution_count": null,
      "outputs": []
    },
    {
      "cell_type": "code",
      "metadata": {
        "id": "CE08zJhPQoSb"
      },
      "source": [
        "px.line(df, x=\"Date\", y=\"Close\")"
      ],
      "execution_count": null,
      "outputs": []
    },
    {
      "cell_type": "code",
      "metadata": {
        "id": "Wr0QEYDM9AyV"
      },
      "source": [
        "px.area(df, x=\"Date\", y=\"Volume\")"
      ],
      "execution_count": null,
      "outputs": []
    },
    {
      "cell_type": "code",
      "source": [
        "px.bar(df, y='Volume')"
      ],
      "metadata": {
        "id": "xOjb_8VO_RrS"
      },
      "execution_count": null,
      "outputs": []
    },
    {
      "cell_type": "code",
      "source": [
        "px.box(df, y=\"Close\")"
      ],
      "metadata": {
        "id": "S9U7ZYDn_R0f"
      },
      "execution_count": null,
      "outputs": []
    },
    {
      "cell_type": "markdown",
      "metadata": {
        "id": "ASIJnLjScv9B"
      },
      "source": [
        "## Data Preperation"
      ]
    },
    {
      "cell_type": "code",
      "metadata": {
        "id": "8VU3NvfDczau"
      },
      "source": [
        "df"
      ],
      "execution_count": null,
      "outputs": []
    },
    {
      "cell_type": "code",
      "metadata": {
        "id": "sO8g9RCI95Xe"
      },
      "source": [
        "columns = ['Date', 'Close']\n",
        "ndf = pd.DataFrame(df, columns = columns)"
      ],
      "execution_count": null,
      "outputs": []
    },
    {
      "cell_type": "code",
      "source": [
        "ndf"
      ],
      "metadata": {
        "id": "_HqATocD_60g"
      },
      "execution_count": null,
      "outputs": []
    },
    {
      "cell_type": "code",
      "source": [
        "prophet_df = ndf.rename(columns={'Date':'ds', 'Close':'y'})"
      ],
      "metadata": {
        "id": "YXVXfeU6_-eS"
      },
      "execution_count": null,
      "outputs": []
    },
    {
      "cell_type": "code",
      "source": [
        "prophet_df"
      ],
      "metadata": {
        "id": "aQ2YCP4J_-42"
      },
      "execution_count": null,
      "outputs": []
    },
    {
      "cell_type": "markdown",
      "metadata": {
        "id": "j57-ly4Jc5va"
      },
      "source": [
        "## Creating Facebook Prophet Model"
      ]
    },
    {
      "cell_type": "code",
      "metadata": {
        "id": "GdFXAfTFc7iw"
      },
      "source": [
        "m = Prophet(yearly_seasonality= True)\n",
        "m.fit(prophet_df)"
      ],
      "execution_count": null,
      "outputs": []
    },
    {
      "cell_type": "markdown",
      "metadata": {
        "id": "T-0eY9xOdA4S"
      },
      "source": [
        "##Forecasting"
      ]
    },
    {
      "cell_type": "code",
      "metadata": {
        "id": "qGPpV0kmdCjh"
      },
      "source": [
        "future = m.make_future_dataframe(periods=30)\n",
        "forecast = m.predict(future)"
      ],
      "execution_count": null,
      "outputs": []
    },
    {
      "cell_type": "code",
      "metadata": {
        "id": "JzPozfvMDUUX"
      },
      "source": [
        "forecast"
      ],
      "execution_count": null,
      "outputs": []
    },
    {
      "cell_type": "code",
      "metadata": {
        "id": "19-Qc5qDdH8K"
      },
      "source": [
        "px.line(forecast, x='ds', y='yhat')"
      ],
      "execution_count": null,
      "outputs": []
    },
    {
      "cell_type": "code",
      "source": [
        "figure = m.plot(forecast, xlabel = 'ds', ylabel='y')"
      ],
      "metadata": {
        "id": "6QuqRgRyCT_G"
      },
      "execution_count": null,
      "outputs": []
    },
    {
      "cell_type": "code",
      "source": [
        "figure2 = m.plot_components(forecast)"
      ],
      "metadata": {
        "id": "7pRVGEd6CgHj"
      },
      "execution_count": null,
      "outputs": []
    },
    {
      "cell_type": "markdown",
      "metadata": {
        "id": "6csAGFe7DTij"
      },
      "source": [
        "##Downloading the Forecast data"
      ]
    },
    {
      "cell_type": "code",
      "metadata": {
        "id": "FFchZPzWDY9c"
      },
      "source": [
        "from google.colab import files\n",
        "forecast.to_csv('forecast.csv')\n",
        "files.download('forecast.csv')\n",
        "print(\"Forecast.csv File Downloaded successfully\")"
      ],
      "execution_count": null,
      "outputs": []
    }
  ]
}